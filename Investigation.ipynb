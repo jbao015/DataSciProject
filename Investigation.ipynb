{
 "cells": [
  {
   "cell_type": "code",
   "execution_count": 301,
   "metadata": {},
   "outputs": [],
   "source": [
    "import pandas as pd\n",
    "import copy\n",
    "import matplotlib.pyplot as plt"
   ]
  },
  {
   "cell_type": "code",
   "execution_count": 302,
   "metadata": {},
   "outputs": [],
   "source": [
    "recipes = pd.read_csv(\"./clean_recipes.csv\", delimiter = \";\")\n",
    "reviews = pd.read_csv(\"./clean_reviews.csv\")"
   ]
  },
  {
   "cell_type": "code",
   "execution_count": 303,
   "metadata": {},
   "outputs": [],
   "source": [
    "#Reduce reviews down to an average\n",
    "ave_rates = reviews.groupby('RecipeID')['Rate'].mean()\n",
    "#merge ave reviews with original dataset\n",
    "prepped_set = recipes.merge(ave_rates, left_on = 'RecipeID', right_on = 'RecipeID')"
   ]
  },
  {
   "cell_type": "code",
   "execution_count": 304,
   "metadata": {},
   "outputs": [],
   "source": [
    "#Create some potentially useful columns:\n",
    "#length of instructions\n",
    "prepped_set['instruction_length'] = prepped_set['Directions'].str.len()\n",
    "prepped_set['ingredient_count'] = prepped_set['Ingredients'].str.count(\",\") +1"
   ]
  },
  {
   "cell_type": "code",
   "execution_count": 305,
   "metadata": {},
   "outputs": [],
   "source": [
    "prepped_set.loc[prepped_set['instruction_length'].isnull(),'instruction_length'] = 0"
   ]
  },
  {
   "cell_type": "code",
   "execution_count": 306,
   "metadata": {},
   "outputs": [],
   "source": [
    "def clean_ingreds(string):\n",
    "    ing = ''.join([j for j in filter(lambda y: y.isalpha() | y.isspace(), string)]).strip().lower()\n",
    "    ing = ing.replace('tablespoons', '')\n",
    "    ing = ing.replace('tablespoon', '')\n",
    "    ing = ing.replace('pounds', '')\n",
    "    ing = ing.replace('pound', '')\n",
    "    ing = ing.replace('fluid ounces','')\n",
    "    ing = ing.replace('fluid ounce','')\n",
    "    ing = ing.replace('fluid oz','')\n",
    "    ing = ing.replace('ounces','')\n",
    "    ing = ing.replace('ounce','')\n",
    "    ing = ing.replace('oz ','')\n",
    "    ing = ing.replace('cups','')\n",
    "    ing = ing.replace('cup','')\n",
    "    ing = ing.replace('to taste','')\n",
    "    ing = ing.replace('cleaned','')\n",
    "    ing = ing.replace('whole','')\n",
    "    ing = ing.replace('packages','')\n",
    "    ing = ing.replace('package','')\n",
    "    ing = ing.replace('day old','')\n",
    "    ing = ing.replace('sheets','')\n",
    "    ing = ing.replace('grams','')\n",
    "    ing = ing.replace('gram','')\n",
    "    ing = ing.replace('inches','')\n",
    "    ing = ing.replace('inch','')\n",
    "    ing = ing.replace('bottle','')\n",
    "    ing = ing.replace('bottled','')\n",
    "    ing = ing.replace('see note','')\n",
    "    ing = ing.replace('dash','')\n",
    "    ing = ing.replace('pinch','')\n",
    "    ing = ing.replace('es ','')\n",
    "    ing = ing.strip()\n",
    "    return ing"
   ]
  },
  {
   "cell_type": "code",
   "execution_count": 307,
   "metadata": {},
   "outputs": [],
   "source": [
    "ing_list = {}\n",
    "for i, row in prepped_set['Ingredients'].iteritems():\n",
    "    row_vals = row.split(',')\n",
    "    for x in row_vals:\n",
    "        ing = clean_ingreds(x)\n",
    "        if ing in ing_list:\n",
    "            ing_list[ing] += 1\n",
    "        else:\n",
    "            ing_list[ing] = 1\n",
    "            \n",
    "    \n",
    "ingreds = pd.DataFrame.from_dict(ing_list, orient='index', columns=['count']).sort_values(by=['count'])\n",
    "ingreds.to_csv(\"./ingreds.csv\")\n"
   ]
  },
  {
   "cell_type": "code",
   "execution_count": 308,
   "metadata": {},
   "outputs": [],
   "source": [
    "#If count greater/equal to 11 (corresponding to top 250ish), use one-hot encoding\n",
    "#first add appropriate columns to df\n",
    "delete_list = list()\n",
    "\n",
    "for x in ing_list:\n",
    "    if ing_list[x] > 10:\n",
    "        prepped_set['has_' + x] = 0\n",
    "    else:\n",
    "        delete_list.append(x)\n",
    "        \n",
    "for key in delete_list: del ing_list[key] \n",
    "\n",
    "#Next, parse ingredients accordingly\n",
    "for i, row in prepped_set['Ingredients'].iteritems():\n",
    "    row_vals = row.split(',')\n",
    "    #print(row_vals)\n",
    "    for x in row_vals:\n",
    "        ing = clean_ingreds(x)\n",
    "        if ing in ing_list:\n",
    "            prepped_set.at[i, 'has_' + ing] = 1"
   ]
  },
  {
   "cell_type": "code",
   "execution_count": 309,
   "metadata": {},
   "outputs": [],
   "source": [
    "means = prepped_set.mean()"
   ]
  },
  {
   "cell_type": "code",
   "execution_count": 310,
   "metadata": {},
   "outputs": [],
   "source": [
    "def parse_time(string):\n",
    "    row_vals = string.split(' ')\n",
    "    time = -100000\n",
    "    if (len(row_vals)==1):\n",
    "        if row_vals[0] == \"X\":\n",
    "            return 0\n",
    "        else:\n",
    "            return time\n",
    "    else:\n",
    "        if row_vals[1] == 'h':\n",
    "            time = 60 * int(row_vals[0])\n",
    "        if row_vals[1] == 'm':\n",
    "            time = int(row_vals[0])\n",
    "        if row_vals[1] == 'd':\n",
    "            time = 1440 * int(row_vals[0])\n",
    "        if len(row_vals) > 2:\n",
    "            if row_vals[3] == 'm':\n",
    "                time += int(row_vals[2])\n",
    "            if row_vals[3] == 'h':\n",
    "                time += 60 * int(row_vals[2])\n",
    "            if len(row_vals) > 4:\n",
    "                if row_vals[5] == 'm':\n",
    "                    time += int(row_vals[2])\n",
    "                \n",
    "        return time\n",
    "    "
   ]
  },
  {
   "cell_type": "code",
   "execution_count": 311,
   "metadata": {},
   "outputs": [
    {
     "name": "stdout",
     "output_type": "stream",
     "text": [
      "count    6426.000000\n",
      "mean       13.048242\n",
      "std        20.940639\n",
      "min         0.000000\n",
      "25%         0.000000\n",
      "50%        10.000000\n",
      "75%        20.000000\n",
      "max       540.000000\n",
      "Name: Prep_time_parsed, dtype: float64\n"
     ]
    }
   ],
   "source": [
    "#Parse the two time variables\n",
    "\n",
    "prepped_set['Prep_time_parsed'] = -10000\n",
    "\n",
    "for i, row in prepped_set['Prepare Time'].iteritems():\n",
    "    prepped_set.at[i, 'Prep_time_parsed'] = parse_time(row)\n",
    "        \n",
    "        \n",
    "print(prepped_set['Prep_time_parsed'].describe())"
   ]
  },
  {
   "cell_type": "code",
   "execution_count": 312,
   "metadata": {},
   "outputs": [
    {
     "name": "stdout",
     "output_type": "stream",
     "text": [
      "count    6426.000000\n",
      "mean       32.297697\n",
      "std        76.672352\n",
      "min         0.000000\n",
      "25%         0.000000\n",
      "50%        12.000000\n",
      "75%        35.000000\n",
      "max      1440.000000\n",
      "Name: Cook_time_parsed, dtype: float64\n"
     ]
    }
   ],
   "source": [
    "prepped_set['Cook_time_parsed'] = -10000\n",
    "\n",
    "for i, row in prepped_set['Cook Time'].iteritems():\n",
    "    prepped_set.at[i, 'Cook_time_parsed'] = parse_time(row)\n",
    "print(prepped_set['Cook_time_parsed'].describe())"
   ]
  },
  {
   "cell_type": "code",
   "execution_count": 313,
   "metadata": {},
   "outputs": [
    {
     "name": "stdout",
     "output_type": "stream",
     "text": [
      "count     6426.000000\n",
      "mean        99.901961\n",
      "std        763.246895\n",
      "min          0.000000\n",
      "25%          0.000000\n",
      "50%         35.000000\n",
      "75%         75.000000\n",
      "max      43320.000000\n",
      "Name: Total_time_parsed, dtype: float64\n"
     ]
    }
   ],
   "source": [
    "prepped_set['Total_time_parsed'] = -10000\n",
    "\n",
    "for i, row in prepped_set['Total Time'].iteritems():\n",
    "    prepped_set.at[i, 'Total_time_parsed'] = parse_time(row)\n",
    "print(prepped_set['Total_time_parsed'].describe())"
   ]
  },
  {
   "cell_type": "code",
   "execution_count": 314,
   "metadata": {},
   "outputs": [],
   "source": [
    "#Fix Review count\n",
    "prepped_set['Review_Count_Num'] = - 1000\n",
    "\n",
    "for i, row in prepped_set['Review Count'].iteritems():\n",
    "    if 'k' in row:\n",
    "        prepped_set.at[i, 'Review_Count_Num'] = int(row.replace('k', '000'))\n",
    "    else:\n",
    "        prepped_set.at[i, 'Review_Count_Num'] = int(row)\n",
    "        "
   ]
  },
  {
   "cell_type": "code",
   "execution_count": 315,
   "metadata": {},
   "outputs": [],
   "source": [
    "true_rates = prepped_set['Rate']\n",
    "prepped_set = prepped_set.drop(columns=['Recipe Name', 'Recipe Photo', 'Author', 'Prepare Time', 'Cook Time', 'Total Time', 'Rate', 'Ingredients', 'Directions', 'Review Count'])\n"
   ]
  },
  {
   "cell_type": "code",
   "execution_count": 316,
   "metadata": {},
   "outputs": [],
   "source": [
    "prepped_set['Prep_Perc'] = prepped_set[\"Prep_time_parsed\"]/prepped_set['Total_time_parsed']\n",
    "prepped_set['Cook_Perc'] = prepped_set[\"Cook_time_parsed\"]/prepped_set['Total_time_parsed']"
   ]
  },
  {
   "cell_type": "code",
   "execution_count": 317,
   "metadata": {},
   "outputs": [],
   "source": [
    "prepped_set.loc[prepped_set['Prep_Perc'].isnull()] = -1\n",
    "prepped_set.loc[prepped_set['Cook_Perc'].isnull()] = -1"
   ]
  },
  {
   "cell_type": "code",
   "execution_count": 318,
   "metadata": {},
   "outputs": [],
   "source": [
    "from sklearn.ensemble import RandomForestRegressor\n",
    "from sklearn.datasets import make_regression\n",
    "import numpy as np\n",
    "from sklearn.model_selection import train_test_split"
   ]
  },
  {
   "cell_type": "code",
   "execution_count": 319,
   "metadata": {},
   "outputs": [],
   "source": [
    "X_train, X_test, y_train, y_test = train_test_split(prepped_set, true_rates, test_size=0.3, random_state=42)"
   ]
  },
  {
   "cell_type": "code",
   "execution_count": 320,
   "metadata": {},
   "outputs": [
    {
     "data": {
      "text/plain": [
       "RandomForestRegressor(bootstrap=True, criterion='mse', max_depth=None,\n",
       "           max_features='auto', max_leaf_nodes=None,\n",
       "           min_impurity_decrease=0.0, min_impurity_split=None,\n",
       "           min_samples_leaf=1, min_samples_split=2,\n",
       "           min_weight_fraction_leaf=0.0, n_estimators=1000, n_jobs=None,\n",
       "           oob_score=False, random_state=0, verbose=0, warm_start=False)"
      ]
     },
     "execution_count": 320,
     "metadata": {},
     "output_type": "execute_result"
    }
   ],
   "source": [
    "clf = RandomForestRegressor(n_estimators=1000, random_state=0)\n",
    "clf.fit(X_train, y_train)"
   ]
  },
  {
   "cell_type": "code",
   "execution_count": 330,
   "metadata": {},
   "outputs": [
    {
     "data": {
      "text/plain": [
       "{'bootstrap': True,\n",
       " 'criterion': 'mse',\n",
       " 'max_depth': None,\n",
       " 'max_features': 'auto',\n",
       " 'max_leaf_nodes': None,\n",
       " 'min_impurity_decrease': 0.0,\n",
       " 'min_impurity_split': None,\n",
       " 'min_samples_leaf': 1,\n",
       " 'min_samples_split': 2,\n",
       " 'min_weight_fraction_leaf': 0.0,\n",
       " 'n_estimators': 1000,\n",
       " 'n_jobs': None,\n",
       " 'oob_score': False,\n",
       " 'random_state': 0,\n",
       " 'verbose': 0,\n",
       " 'warm_start': False}"
      ]
     },
     "execution_count": 330,
     "metadata": {},
     "output_type": "execute_result"
    }
   ],
   "source": [
    "clf.get_params()"
   ]
  },
  {
   "cell_type": "code",
   "execution_count": 334,
   "metadata": {},
   "outputs": [
    {
     "name": "stdout",
     "output_type": "stream",
     "text": [
      "{'n_estimators': [200, 400, 600, 800, 1000, 1200, 1400, 1600, 1800, 2000], 'bootstrap': [True, False], 'max_depth': [10, 20, 30, 40, 50, 60, 70, 80, 90, 100, 110, None], 'min_samples_leaf': [1, 2, 4], 'max_features': ['auto', 'sqrt'], 'min_samples_split': [2, 5, 10]}\n",
      "Fitting 3 folds for each of 100 candidates, totalling 300 fits\n"
     ]
    },
    {
     "name": "stderr",
     "output_type": "stream",
     "text": [
      "[Parallel(n_jobs=-1)]: Using backend LokyBackend with 4 concurrent workers.\n",
      "[Parallel(n_jobs=-1)]: Done  33 tasks      | elapsed:  9.9min\n",
      "[Parallel(n_jobs=-1)]: Done 154 tasks      | elapsed: 51.2min\n",
      "[Parallel(n_jobs=-1)]: Done 300 out of 300 | elapsed: 101.4min finished\n"
     ]
    },
    {
     "data": {
      "text/plain": [
       "RandomizedSearchCV(cv=3, error_score='raise-deprecating',\n",
       "          estimator=RandomForestRegressor(bootstrap=True, criterion='mse', max_depth=None,\n",
       "           max_features='auto', max_leaf_nodes=None,\n",
       "           min_impurity_decrease=0.0, min_impurity_split=None,\n",
       "           min_samples_leaf=1, min_samples_split=2,\n",
       "           min_weight_fraction_leaf=0.0, n_estimators=1000, n_jobs=None,\n",
       "           oob_score=False, random_state=0, verbose=0, warm_start=False),\n",
       "          fit_params=None, iid='warn', n_iter=100, n_jobs=-1,\n",
       "          param_distributions={'n_estimators': [200, 400, 600, 800, 1000, 1200, 1400, 1600, 1800, 2000], 'bootstrap': [True, False], 'max_depth': [10, 20, 30, 40, 50, 60, 70, 80, 90, 100, 110, None], 'min_samples_leaf': [1, 2, 4], 'max_features': ['auto', 'sqrt'], 'min_samples_split': [2, 5, 10]},\n",
       "          pre_dispatch='2*n_jobs', random_state=42, refit=True,\n",
       "          return_train_score='warn', scoring=None, verbose=2)"
      ]
     },
     "execution_count": 334,
     "metadata": {},
     "output_type": "execute_result"
    }
   ],
   "source": [
    "from sklearn.model_selection import RandomizedSearchCV\n",
    "n_estimators = [int(x) for x in np.linspace(start = 200, stop = 2000, num = 10)]\n",
    "# Number of features to consider at every split\n",
    "max_features = ['auto', 'sqrt']\n",
    "# Maximum number of levels in tree\n",
    "max_depth = [int(x) for x in np.linspace(10, 110, num = 11)]\n",
    "max_depth.append(None)\n",
    "# Minimum number of samples required to split a node\n",
    "min_samples_split = [2, 5, 10]\n",
    "# Minimum number of samples required at each leaf node\n",
    "min_samples_leaf = [1, 2, 4]\n",
    "# Method of selecting samples for training each tree\n",
    "bootstrap = [True, False]\n",
    "# Create the random grid\n",
    "random_grid = {'n_estimators': n_estimators,\n",
    "               'max_features': max_features,\n",
    "               'max_depth': max_depth,\n",
    "               'min_samples_split': min_samples_split,\n",
    "               'min_samples_leaf': min_samples_leaf,\n",
    "               'bootstrap': bootstrap}\n",
    "print(random_grid)\n",
    "\n",
    "rf_random = RandomizedSearchCV(estimator = clf, param_distributions = random_grid, n_iter = 100, cv = 3, verbose=2, random_state=42, n_jobs = -1)\n",
    "\n",
    "rf_random.fit(X_train, y_train)"
   ]
  },
  {
   "cell_type": "code",
   "execution_count": 321,
   "metadata": {},
   "outputs": [
    {
     "name": "stdout",
     "output_type": "stream",
     "text": [
      "[6.60908056e-02 7.08469607e-02 4.60504734e-02 9.62511597e-04\n",
      " 1.68817523e-03 1.63008211e-03 5.04937374e-03 7.51138576e-05\n",
      " 2.30847395e-04 2.00848864e-05 8.17812464e-03 5.66834497e-04\n",
      " 5.11162206e-04 5.97449691e-03 7.06032745e-04 7.46654308e-04\n",
      " 6.94289856e-03 1.42806543e-03 4.07861582e-04 9.61766220e-04\n",
      " 9.05927181e-04 4.77121488e-05 2.38296376e-04 1.35474570e-03\n",
      " 7.78206611e-05 5.78903829e-04 1.65953770e-04 1.15690319e-03\n",
      " 1.69093819e-04 1.52052226e-03 9.44949969e-04 8.17854941e-04\n",
      " 2.81778870e-04 2.04544545e-03 6.59502081e-04 2.68337098e-03\n",
      " 6.18025972e-05 5.88925771e-05 7.19733589e-04 2.35539612e-04\n",
      " 6.88706914e-04 1.75961002e-03 7.47811886e-03 1.56321246e-04\n",
      " 2.51803482e-03 3.70737490e-03 5.21324768e-04 1.62451672e-03\n",
      " 6.85333871e-05 8.90380960e-04 4.40919544e-04 4.66364129e-03\n",
      " 6.34080985e-04 5.93463089e-04 8.70979718e-04 1.58668121e-03\n",
      " 3.11651786e-03 4.18857803e-03 1.08757116e-02 2.45170897e-04\n",
      " 1.56184080e-03 6.27108635e-05 2.34371534e-04 8.90179020e-03\n",
      " 1.37552515e-03 2.63953363e-03 1.66869487e-04 6.20907685e-04\n",
      " 7.25786353e-04 3.26444832e-04 2.54585085e-03 6.89415262e-03\n",
      " 6.83134987e-04 8.23743289e-04 8.32035907e-05 6.85201612e-04\n",
      " 1.18384378e-03 8.93863467e-04 1.88766079e-03 7.74786408e-04\n",
      " 3.86750870e-03 1.07081622e-02 1.27258469e-03 3.02489349e-03\n",
      " 1.70970393e-04 3.83272702e-03 4.80226686e-04 5.50191899e-04\n",
      " 2.17941920e-05 2.25011291e-04 1.06310407e-03 4.43861207e-04\n",
      " 2.77578937e-04 1.72085733e-03 1.50255613e-04 5.50335482e-04\n",
      " 1.22718533e-03 4.10352197e-04 5.05267081e-05 2.58052645e-03\n",
      " 5.70651704e-04 2.13509181e-04 5.02467363e-03 1.51847297e-05\n",
      " 3.79565848e-04 1.03726241e-03 3.36732262e-03 7.98520571e-04\n",
      " 1.00735288e-04 5.08448695e-03 9.52949593e-04 1.62260032e-03\n",
      " 8.49342658e-05 3.52289265e-05 3.06858088e-04 1.77705364e-04\n",
      " 1.17293807e-03 1.66046795e-03 1.05708987e-04 7.84738391e-05\n",
      " 2.09617329e-03 2.24774515e-03 2.46380089e-03 3.91994228e-05\n",
      " 7.57471954e-04 4.69448082e-03 4.13560858e-04 4.53208402e-03\n",
      " 7.16396950e-04 4.71272326e-04 2.74479272e-03 2.21959270e-05\n",
      " 3.03565909e-03 1.78512802e-03 5.72620104e-03 8.71481281e-04\n",
      " 1.30739120e-03 5.07719946e-05 1.22568687e-03 3.46810715e-05\n",
      " 4.57943945e-04 3.33813919e-04 4.97624834e-03 2.25990849e-04\n",
      " 3.61971302e-03 4.88031948e-04 1.84357790e-04 1.86282518e-03\n",
      " 1.45986239e-04 1.52724730e-03 2.43978821e-03 1.11708737e-03\n",
      " 1.04170523e-03 6.65529364e-03 7.44741950e-04 2.02085136e-04\n",
      " 8.11758539e-03 1.91090883e-03 7.46972107e-03 4.96003371e-03\n",
      " 5.32130407e-04 6.70285836e-05 3.13175605e-04 1.38163513e-03\n",
      " 1.82360836e-03 1.37300607e-03 1.55698904e-03 3.12918862e-03\n",
      " 8.39167703e-03 2.13439571e-03 1.81842146e-03 8.51270162e-04\n",
      " 1.65640473e-04 5.32487525e-03 5.26707353e-04 3.12744716e-03\n",
      " 2.27057993e-03 2.64486807e-03 3.03467835e-03 2.11145903e-04\n",
      " 1.31953944e-03 4.40183867e-04 3.17148286e-04 3.70702610e-04\n",
      " 1.06888327e-04 1.71548558e-03 9.47379533e-04 1.16624981e-04\n",
      " 6.31046469e-05 9.06894008e-04 1.04621664e-03 1.21098815e-04\n",
      " 2.69048364e-03 2.09759462e-03 2.66772361e-03 5.21434886e-03\n",
      " 6.80212942e-03 5.94325351e-03 3.26855945e-04 8.82809451e-03\n",
      " 1.88681413e-03 5.71261946e-04 3.25998237e-05 1.77889199e-03\n",
      " 8.11649021e-04 5.50807983e-03 5.71841023e-03 4.43496845e-03\n",
      " 8.50742464e-04 7.99802557e-04 1.05346083e-03 2.52394459e-04\n",
      " 1.56577616e-04 1.75845016e-03 4.53008060e-04 2.73619599e-04\n",
      " 1.13751469e-04 1.12889937e-03 2.31105999e-04 1.82480633e-03\n",
      " 8.43123942e-03 1.92724800e-04 4.40347286e-03 4.79837652e-03\n",
      " 3.03822495e-03 2.48063125e-03 3.01287892e-03 1.83959292e-04\n",
      " 3.12214705e-03 1.71160837e-05 5.51780896e-05 4.21350947e-04\n",
      " 1.76803175e-04 1.26227099e-04 6.96913271e-06 2.74415387e-04\n",
      " 1.45055374e-04 4.30486799e-03 3.53626866e-04 1.04640675e-03\n",
      " 1.00547425e-03 8.79159982e-03 5.56626375e-05 2.15797090e-04\n",
      " 2.42974421e-04 4.35054210e-03 1.09955089e-03 4.93161117e-05\n",
      " 6.04388749e-04 3.50185730e-04 2.53845356e-03 3.86076531e-03\n",
      " 1.27656522e-04 4.89011132e-05 3.97866052e-03 1.75764201e-03\n",
      " 1.98116635e-03 1.66738533e-04 1.63415833e-03 2.85370797e-02\n",
      " 4.19275199e-02 4.61613976e-02 1.60849525e-01 3.60966159e-02\n",
      " 5.19883621e-02]\n"
     ]
    }
   ],
   "source": [
    "print(clf.feature_importances_)"
   ]
  },
  {
   "cell_type": "code",
   "execution_count": 336,
   "metadata": {},
   "outputs": [
    {
     "data": {
      "text/plain": [
       "0.29073384420110204"
      ]
     },
     "execution_count": 336,
     "metadata": {},
     "output_type": "execute_result"
    }
   ],
   "source": [
    "rf_random.best_params_\n",
    "best_random = rf_random.best_estimator_\n",
    "best_predictions = best_random.predict(X_test)\n",
    "best_rms = sqrt(mean_squared_error(y_test, best_predictions))\n",
    "best_rms\n"
   ]
  },
  {
   "cell_type": "code",
   "execution_count": 322,
   "metadata": {},
   "outputs": [
    {
     "data": {
      "text/plain": [
       "1928"
      ]
     },
     "execution_count": 322,
     "metadata": {},
     "output_type": "execute_result"
    }
   ],
   "source": [
    "predictions = clf.predict(X_test)\n",
    "len(predictions)"
   ]
  },
  {
   "cell_type": "code",
   "execution_count": 323,
   "metadata": {},
   "outputs": [
    {
     "data": {
      "text/plain": [
       "0.29343019246736063"
      ]
     },
     "execution_count": 323,
     "metadata": {},
     "output_type": "execute_result"
    }
   ],
   "source": [
    "from sklearn.metrics import mean_squared_error\n",
    "from math import sqrt\n",
    "\n",
    "rms = sqrt(mean_squared_error(y_test, predictions))\n",
    "rms"
   ]
  },
  {
   "cell_type": "code",
   "execution_count": 324,
   "metadata": {},
   "outputs": [
    {
     "data": {
      "text/plain": [
       "count    1928.000000\n",
       "mean        4.407906\n",
       "std         0.121567\n",
       "min         3.554617\n",
       "25%         4.354184\n",
       "50%         4.367849\n",
       "75%         4.496710\n",
       "max         4.748194\n",
       "dtype: float64"
      ]
     },
     "execution_count": 324,
     "metadata": {},
     "output_type": "execute_result"
    }
   ],
   "source": [
    "pd.Series(predictions).describe()"
   ]
  },
  {
   "cell_type": "code",
   "execution_count": 325,
   "metadata": {},
   "outputs": [
    {
     "data": {
      "text/plain": [
       "count    1928.000000\n",
       "mean        4.407659\n",
       "std         0.316342\n",
       "min         1.800000\n",
       "25%         4.266667\n",
       "50%         4.466667\n",
       "75%         4.620690\n",
       "max         4.933333\n",
       "Name: Rate, dtype: float64"
      ]
     },
     "execution_count": 325,
     "metadata": {},
     "output_type": "execute_result"
    }
   ],
   "source": [
    "y_test.describe()"
   ]
  },
  {
   "cell_type": "code",
   "execution_count": 326,
   "metadata": {},
   "outputs": [
    {
     "data": {
      "text/html": [
       "<div>\n",
       "<style scoped>\n",
       "    .dataframe tbody tr th:only-of-type {\n",
       "        vertical-align: middle;\n",
       "    }\n",
       "\n",
       "    .dataframe tbody tr th {\n",
       "        vertical-align: top;\n",
       "    }\n",
       "\n",
       "    .dataframe thead th {\n",
       "        text-align: right;\n",
       "    }\n",
       "</style>\n",
       "<table border=\"1\" class=\"dataframe\">\n",
       "  <thead>\n",
       "    <tr style=\"text-align: right;\">\n",
       "      <th></th>\n",
       "      <th>index</th>\n",
       "      <th>Rate</th>\n",
       "      <th>0</th>\n",
       "    </tr>\n",
       "  </thead>\n",
       "  <tbody>\n",
       "    <tr>\n",
       "      <th>index</th>\n",
       "      <td>1.000000</td>\n",
       "      <td>0.049967</td>\n",
       "      <td>0.169705</td>\n",
       "    </tr>\n",
       "    <tr>\n",
       "      <th>Rate</th>\n",
       "      <td>0.049967</td>\n",
       "      <td>1.000000</td>\n",
       "      <td>0.373211</td>\n",
       "    </tr>\n",
       "    <tr>\n",
       "      <th>0</th>\n",
       "      <td>0.169705</td>\n",
       "      <td>0.373211</td>\n",
       "      <td>1.000000</td>\n",
       "    </tr>\n",
       "  </tbody>\n",
       "</table>\n",
       "</div>"
      ],
      "text/plain": [
       "          index      Rate         0\n",
       "index  1.000000  0.049967  0.169705\n",
       "Rate   0.049967  1.000000  0.373211\n",
       "0      0.169705  0.373211  1.000000"
      ]
     },
     "execution_count": 326,
     "metadata": {},
     "output_type": "execute_result"
    }
   ],
   "source": [
    "pd.concat([y_test.reset_index(), pd.Series(predictions)], axis = 1).corr()\n"
   ]
  },
  {
   "cell_type": "code",
   "execution_count": 327,
   "metadata": {},
   "outputs": [
    {
     "data": {
      "text/plain": [
       "Text(0, 0.5, 'true')"
      ]
     },
     "execution_count": 327,
     "metadata": {},
     "output_type": "execute_result"
    },
    {
     "data": {
      "image/png": "[encoded data removed]",
      "text/plain": [
       "<Figure size 432x288 with 1 Axes>"
      ]
     },
     "metadata": {
      "needs_background": "light"
     },
     "output_type": "display_data"
    }
   ],
   "source": [
    "plt.scatter(pd.Series(predictions), y_test)\n",
    "plt.xlabel('predictions')\n",
    "plt.ylabel('true')"
   ]
  },
  {
   "cell_type": "code",
   "execution_count": 328,
   "metadata": {},
   "outputs": [
    {
     "data": {
      "text/html": [
       "<div>\n",
       "<style scoped>\n",
       "    .dataframe tbody tr th:only-of-type {\n",
       "        vertical-align: middle;\n",
       "    }\n",
       "\n",
       "    .dataframe tbody tr th {\n",
       "        vertical-align: top;\n",
       "    }\n",
       "\n",
       "    .dataframe thead th {\n",
       "        text-align: right;\n",
       "    }\n",
       "</style>\n",
       "<table border=\"1\" class=\"dataframe\">\n",
       "  <thead>\n",
       "    <tr style=\"text-align: right;\">\n",
       "      <th></th>\n",
       "      <th>index</th>\n",
       "      <th>Rate</th>\n",
       "      <th>0</th>\n",
       "    </tr>\n",
       "  </thead>\n",
       "  <tbody>\n",
       "    <tr>\n",
       "      <th>0</th>\n",
       "      <td>324</td>\n",
       "      <td>4.453333</td>\n",
       "      <td>4.354184</td>\n",
       "    </tr>\n",
       "    <tr>\n",
       "      <th>1</th>\n",
       "      <td>5396</td>\n",
       "      <td>4.714286</td>\n",
       "      <td>4.516629</td>\n",
       "    </tr>\n",
       "    <tr>\n",
       "      <th>2</th>\n",
       "      <td>4894</td>\n",
       "      <td>4.233333</td>\n",
       "      <td>4.451766</td>\n",
       "    </tr>\n",
       "    <tr>\n",
       "      <th>3</th>\n",
       "      <td>2548</td>\n",
       "      <td>4.551724</td>\n",
       "      <td>4.354184</td>\n",
       "    </tr>\n",
       "    <tr>\n",
       "      <th>4</th>\n",
       "      <td>381</td>\n",
       "      <td>4.233333</td>\n",
       "      <td>4.452915</td>\n",
       "    </tr>\n",
       "    <tr>\n",
       "      <th>5</th>\n",
       "      <td>3551</td>\n",
       "      <td>4.294118</td>\n",
       "      <td>4.412215</td>\n",
       "    </tr>\n",
       "    <tr>\n",
       "      <th>6</th>\n",
       "      <td>4414</td>\n",
       "      <td>4.722222</td>\n",
       "      <td>4.485043</td>\n",
       "    </tr>\n",
       "    <tr>\n",
       "      <th>7</th>\n",
       "      <td>4991</td>\n",
       "      <td>4.711111</td>\n",
       "      <td>4.415082</td>\n",
       "    </tr>\n",
       "    <tr>\n",
       "      <th>8</th>\n",
       "      <td>1345</td>\n",
       "      <td>3.586207</td>\n",
       "      <td>4.331280</td>\n",
       "    </tr>\n",
       "    <tr>\n",
       "      <th>9</th>\n",
       "      <td>1807</td>\n",
       "      <td>4.801230</td>\n",
       "      <td>4.661619</td>\n",
       "    </tr>\n",
       "    <tr>\n",
       "      <th>10</th>\n",
       "      <td>1721</td>\n",
       "      <td>4.214286</td>\n",
       "      <td>4.354184</td>\n",
       "    </tr>\n",
       "    <tr>\n",
       "      <th>11</th>\n",
       "      <td>3807</td>\n",
       "      <td>4.218487</td>\n",
       "      <td>4.354184</td>\n",
       "    </tr>\n",
       "    <tr>\n",
       "      <th>12</th>\n",
       "      <td>5522</td>\n",
       "      <td>4.566667</td>\n",
       "      <td>4.292072</td>\n",
       "    </tr>\n",
       "    <tr>\n",
       "      <th>13</th>\n",
       "      <td>2522</td>\n",
       "      <td>4.316667</td>\n",
       "      <td>4.338699</td>\n",
       "    </tr>\n",
       "    <tr>\n",
       "      <th>14</th>\n",
       "      <td>1634</td>\n",
       "      <td>4.340909</td>\n",
       "      <td>4.354184</td>\n",
       "    </tr>\n",
       "    <tr>\n",
       "      <th>15</th>\n",
       "      <td>5988</td>\n",
       "      <td>4.035714</td>\n",
       "      <td>4.234722</td>\n",
       "    </tr>\n",
       "    <tr>\n",
       "      <th>16</th>\n",
       "      <td>2144</td>\n",
       "      <td>4.586207</td>\n",
       "      <td>4.281723</td>\n",
       "    </tr>\n",
       "    <tr>\n",
       "      <th>17</th>\n",
       "      <td>230</td>\n",
       "      <td>4.237288</td>\n",
       "      <td>4.354184</td>\n",
       "    </tr>\n",
       "    <tr>\n",
       "      <th>18</th>\n",
       "      <td>4003</td>\n",
       "      <td>4.616541</td>\n",
       "      <td>4.553619</td>\n",
       "    </tr>\n",
       "    <tr>\n",
       "      <th>19</th>\n",
       "      <td>1242</td>\n",
       "      <td>4.252174</td>\n",
       "      <td>4.354184</td>\n",
       "    </tr>\n",
       "    <tr>\n",
       "      <th>20</th>\n",
       "      <td>6190</td>\n",
       "      <td>4.661258</td>\n",
       "      <td>4.502753</td>\n",
       "    </tr>\n",
       "    <tr>\n",
       "      <th>21</th>\n",
       "      <td>1965</td>\n",
       "      <td>4.305085</td>\n",
       "      <td>4.495980</td>\n",
       "    </tr>\n",
       "    <tr>\n",
       "      <th>22</th>\n",
       "      <td>1881</td>\n",
       "      <td>4.673532</td>\n",
       "      <td>4.630323</td>\n",
       "    </tr>\n",
       "    <tr>\n",
       "      <th>23</th>\n",
       "      <td>132</td>\n",
       "      <td>4.613466</td>\n",
       "      <td>4.601437</td>\n",
       "    </tr>\n",
       "    <tr>\n",
       "      <th>24</th>\n",
       "      <td>4108</td>\n",
       "      <td>4.563758</td>\n",
       "      <td>4.512466</td>\n",
       "    </tr>\n",
       "    <tr>\n",
       "      <th>25</th>\n",
       "      <td>6249</td>\n",
       "      <td>4.533333</td>\n",
       "      <td>4.334871</td>\n",
       "    </tr>\n",
       "    <tr>\n",
       "      <th>26</th>\n",
       "      <td>2925</td>\n",
       "      <td>4.703390</td>\n",
       "      <td>4.532997</td>\n",
       "    </tr>\n",
       "    <tr>\n",
       "      <th>27</th>\n",
       "      <td>1611</td>\n",
       "      <td>4.516667</td>\n",
       "      <td>4.354184</td>\n",
       "    </tr>\n",
       "    <tr>\n",
       "      <th>28</th>\n",
       "      <td>543</td>\n",
       "      <td>4.333333</td>\n",
       "      <td>4.228060</td>\n",
       "    </tr>\n",
       "    <tr>\n",
       "      <th>29</th>\n",
       "      <td>6305</td>\n",
       "      <td>4.500000</td>\n",
       "      <td>4.255268</td>\n",
       "    </tr>\n",
       "    <tr>\n",
       "      <th>...</th>\n",
       "      <td>...</td>\n",
       "      <td>...</td>\n",
       "      <td>...</td>\n",
       "    </tr>\n",
       "    <tr>\n",
       "      <th>1898</th>\n",
       "      <td>527</td>\n",
       "      <td>4.455556</td>\n",
       "      <td>4.354184</td>\n",
       "    </tr>\n",
       "    <tr>\n",
       "      <th>1899</th>\n",
       "      <td>4896</td>\n",
       "      <td>4.333333</td>\n",
       "      <td>4.375903</td>\n",
       "    </tr>\n",
       "    <tr>\n",
       "      <th>1900</th>\n",
       "      <td>5788</td>\n",
       "      <td>4.566667</td>\n",
       "      <td>4.495958</td>\n",
       "    </tr>\n",
       "    <tr>\n",
       "      <th>1901</th>\n",
       "      <td>2603</td>\n",
       "      <td>4.657658</td>\n",
       "      <td>4.501435</td>\n",
       "    </tr>\n",
       "    <tr>\n",
       "      <th>1902</th>\n",
       "      <td>1468</td>\n",
       "      <td>4.384824</td>\n",
       "      <td>4.590165</td>\n",
       "    </tr>\n",
       "    <tr>\n",
       "      <th>1903</th>\n",
       "      <td>2683</td>\n",
       "      <td>4.662162</td>\n",
       "      <td>4.535467</td>\n",
       "    </tr>\n",
       "    <tr>\n",
       "      <th>1904</th>\n",
       "      <td>4299</td>\n",
       "      <td>3.800000</td>\n",
       "      <td>4.166238</td>\n",
       "    </tr>\n",
       "    <tr>\n",
       "      <th>1905</th>\n",
       "      <td>937</td>\n",
       "      <td>4.542373</td>\n",
       "      <td>4.471922</td>\n",
       "    </tr>\n",
       "    <tr>\n",
       "      <th>1906</th>\n",
       "      <td>5528</td>\n",
       "      <td>4.666667</td>\n",
       "      <td>4.392344</td>\n",
       "    </tr>\n",
       "    <tr>\n",
       "      <th>1907</th>\n",
       "      <td>5471</td>\n",
       "      <td>4.600000</td>\n",
       "      <td>4.330665</td>\n",
       "    </tr>\n",
       "    <tr>\n",
       "      <th>1908</th>\n",
       "      <td>1780</td>\n",
       "      <td>4.137931</td>\n",
       "      <td>4.354184</td>\n",
       "    </tr>\n",
       "    <tr>\n",
       "      <th>1909</th>\n",
       "      <td>4739</td>\n",
       "      <td>4.633333</td>\n",
       "      <td>4.600243</td>\n",
       "    </tr>\n",
       "    <tr>\n",
       "      <th>1910</th>\n",
       "      <td>2517</td>\n",
       "      <td>4.733333</td>\n",
       "      <td>4.354184</td>\n",
       "    </tr>\n",
       "    <tr>\n",
       "      <th>1911</th>\n",
       "      <td>803</td>\n",
       "      <td>4.677551</td>\n",
       "      <td>4.542497</td>\n",
       "    </tr>\n",
       "    <tr>\n",
       "      <th>1912</th>\n",
       "      <td>857</td>\n",
       "      <td>4.793103</td>\n",
       "      <td>4.354184</td>\n",
       "    </tr>\n",
       "    <tr>\n",
       "      <th>1913</th>\n",
       "      <td>1599</td>\n",
       "      <td>4.614035</td>\n",
       "      <td>4.354184</td>\n",
       "    </tr>\n",
       "    <tr>\n",
       "      <th>1914</th>\n",
       "      <td>5795</td>\n",
       "      <td>4.100000</td>\n",
       "      <td>4.303002</td>\n",
       "    </tr>\n",
       "    <tr>\n",
       "      <th>1915</th>\n",
       "      <td>2020</td>\n",
       "      <td>4.383648</td>\n",
       "      <td>4.555908</td>\n",
       "    </tr>\n",
       "    <tr>\n",
       "      <th>1916</th>\n",
       "      <td>4081</td>\n",
       "      <td>4.250000</td>\n",
       "      <td>4.385861</td>\n",
       "    </tr>\n",
       "    <tr>\n",
       "      <th>1917</th>\n",
       "      <td>4528</td>\n",
       "      <td>3.033333</td>\n",
       "      <td>4.281432</td>\n",
       "    </tr>\n",
       "    <tr>\n",
       "      <th>1918</th>\n",
       "      <td>1423</td>\n",
       "      <td>4.570470</td>\n",
       "      <td>4.354184</td>\n",
       "    </tr>\n",
       "    <tr>\n",
       "      <th>1919</th>\n",
       "      <td>5001</td>\n",
       "      <td>4.850000</td>\n",
       "      <td>4.362597</td>\n",
       "    </tr>\n",
       "    <tr>\n",
       "      <th>1920</th>\n",
       "      <td>1465</td>\n",
       "      <td>4.333333</td>\n",
       "      <td>4.354184</td>\n",
       "    </tr>\n",
       "    <tr>\n",
       "      <th>1921</th>\n",
       "      <td>5790</td>\n",
       "      <td>3.733333</td>\n",
       "      <td>4.561797</td>\n",
       "    </tr>\n",
       "    <tr>\n",
       "      <th>1922</th>\n",
       "      <td>219</td>\n",
       "      <td>4.033333</td>\n",
       "      <td>4.354184</td>\n",
       "    </tr>\n",
       "    <tr>\n",
       "      <th>1923</th>\n",
       "      <td>3277</td>\n",
       "      <td>4.793103</td>\n",
       "      <td>4.210674</td>\n",
       "    </tr>\n",
       "    <tr>\n",
       "      <th>1924</th>\n",
       "      <td>1288</td>\n",
       "      <td>4.100000</td>\n",
       "      <td>4.354184</td>\n",
       "    </tr>\n",
       "    <tr>\n",
       "      <th>1925</th>\n",
       "      <td>1115</td>\n",
       "      <td>4.384615</td>\n",
       "      <td>4.376225</td>\n",
       "    </tr>\n",
       "    <tr>\n",
       "      <th>1926</th>\n",
       "      <td>582</td>\n",
       "      <td>3.731092</td>\n",
       "      <td>4.354184</td>\n",
       "    </tr>\n",
       "    <tr>\n",
       "      <th>1927</th>\n",
       "      <td>4680</td>\n",
       "      <td>4.233333</td>\n",
       "      <td>4.360074</td>\n",
       "    </tr>\n",
       "  </tbody>\n",
       "</table>\n",
       "<p>1928 rows × 3 columns</p>\n",
       "</div>"
      ],
      "text/plain": [
       "      index      Rate         0\n",
       "0       324  4.453333  4.354184\n",
       "1      5396  4.714286  4.516629\n",
       "2      4894  4.233333  4.451766\n",
       "3      2548  4.551724  4.354184\n",
       "4       381  4.233333  4.452915\n",
       "5      3551  4.294118  4.412215\n",
       "6      4414  4.722222  4.485043\n",
       "7      4991  4.711111  4.415082\n",
       "8      1345  3.586207  4.331280\n",
       "9      1807  4.801230  4.661619\n",
       "10     1721  4.214286  4.354184\n",
       "11     3807  4.218487  4.354184\n",
       "12     5522  4.566667  4.292072\n",
       "13     2522  4.316667  4.338699\n",
       "14     1634  4.340909  4.354184\n",
       "15     5988  4.035714  4.234722\n",
       "16     2144  4.586207  4.281723\n",
       "17      230  4.237288  4.354184\n",
       "18     4003  4.616541  4.553619\n",
       "19     1242  4.252174  4.354184\n",
       "20     6190  4.661258  4.502753\n",
       "21     1965  4.305085  4.495980\n",
       "22     1881  4.673532  4.630323\n",
       "23      132  4.613466  4.601437\n",
       "24     4108  4.563758  4.512466\n",
       "25     6249  4.533333  4.334871\n",
       "26     2925  4.703390  4.532997\n",
       "27     1611  4.516667  4.354184\n",
       "28      543  4.333333  4.228060\n",
       "29     6305  4.500000  4.255268\n",
       "...     ...       ...       ...\n",
       "1898    527  4.455556  4.354184\n",
       "1899   4896  4.333333  4.375903\n",
       "1900   5788  4.566667  4.495958\n",
       "1901   2603  4.657658  4.501435\n",
       "1902   1468  4.384824  4.590165\n",
       "1903   2683  4.662162  4.535467\n",
       "1904   4299  3.800000  4.166238\n",
       "1905    937  4.542373  4.471922\n",
       "1906   5528  4.666667  4.392344\n",
       "1907   5471  4.600000  4.330665\n",
       "1908   1780  4.137931  4.354184\n",
       "1909   4739  4.633333  4.600243\n",
       "1910   2517  4.733333  4.354184\n",
       "1911    803  4.677551  4.542497\n",
       "1912    857  4.793103  4.354184\n",
       "1913   1599  4.614035  4.354184\n",
       "1914   5795  4.100000  4.303002\n",
       "1915   2020  4.383648  4.555908\n",
       "1916   4081  4.250000  4.385861\n",
       "1917   4528  3.033333  4.281432\n",
       "1918   1423  4.570470  4.354184\n",
       "1919   5001  4.850000  4.362597\n",
       "1920   1465  4.333333  4.354184\n",
       "1921   5790  3.733333  4.561797\n",
       "1922    219  4.033333  4.354184\n",
       "1923   3277  4.793103  4.210674\n",
       "1924   1288  4.100000  4.354184\n",
       "1925   1115  4.384615  4.376225\n",
       "1926    582  3.731092  4.354184\n",
       "1927   4680  4.233333  4.360074\n",
       "\n",
       "[1928 rows x 3 columns]"
      ]
     },
     "execution_count": 328,
     "metadata": {},
     "output_type": "execute_result"
    }
   ],
   "source": [
    "pd.concat([y_test.reset_index(), pd.Series(predictions)], axis = 1)"
   ]
  }
 ],
 "metadata": {
  "kernelspec": {
   "display_name": "Python 3",
   "language": "python",
   "name": "python3"
  },
  "language_info": {
   "codemirror_mode": {
    "name": "ipython",
    "version": 3
   },
   "file_extension": ".py",
   "mimetype": "text/x-python",
   "name": "python",
   "nbconvert_exporter": "python",
   "pygments_lexer": "ipython3",
   "version": "3.5.2"
  }
 },
 "nbformat": 4,
 "nbformat_minor": 2
}
